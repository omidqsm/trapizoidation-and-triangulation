{
  "nbformat": 4,
  "nbformat_minor": 0,
  "metadata": {
    "colab": {
      "name": "trapezoidation_and_triangulation",
      "provenance": [],
      "collapsed_sections": [
        "m9CLpfCqbSlK"
      ]
    },
    "kernelspec": {
      "name": "python3",
      "display_name": "Python 3"
    }
  },
  "cells": [
    {
      "cell_type": "markdown",
      "metadata": {
        "id": "m9CLpfCqbSlK"
      },
      "source": [
        "# import libraries"
      ]
    },
    {
      "cell_type": "code",
      "metadata": {
        "colab": {
          "base_uri": "https://localhost:8080/"
        },
        "id": "8RhzIOY0pZsx",
        "outputId": "eb4bcb1c-ec38-4838-8e79-17ad76ad7bf8"
      },
      "source": [
        "!pip install scikit-spatial==3.0.0"
      ],
      "execution_count": 1,
      "outputs": [
        {
          "output_type": "stream",
          "text": [
            "Collecting scikit-spatial==3.0.0\n",
            "\u001b[?25l  Downloading https://files.pythonhosted.org/packages/ef/b1/85ec0736466e48314ed35b17b8e84c1e7c735d0433fc8a9bb3c6f9a9fb49/scikit_spatial-3.0.0-py2.py3-none-any.whl (57kB)\n",
            "\r\u001b[K     |█████▊                          | 10kB 13.4MB/s eta 0:00:01\r\u001b[K     |███████████▍                    | 20kB 17.6MB/s eta 0:00:01\r\u001b[K     |█████████████████               | 30kB 11.7MB/s eta 0:00:01\r\u001b[K     |██████████████████████▉         | 40kB 10.0MB/s eta 0:00:01\r\u001b[K     |████████████████████████████▌   | 51kB 5.5MB/s eta 0:00:01\r\u001b[K     |████████████████████████████████| 61kB 3.2MB/s \n",
            "\u001b[?25hRequirement already satisfied: matplotlib in /usr/local/lib/python3.6/dist-packages (from scikit-spatial==3.0.0) (3.2.2)\n",
            "Requirement already satisfied: numpy in /usr/local/lib/python3.6/dist-packages (from scikit-spatial==3.0.0) (1.18.5)\n",
            "Requirement already satisfied: kiwisolver>=1.0.1 in /usr/local/lib/python3.6/dist-packages (from matplotlib->scikit-spatial==3.0.0) (1.3.1)\n",
            "Requirement already satisfied: python-dateutil>=2.1 in /usr/local/lib/python3.6/dist-packages (from matplotlib->scikit-spatial==3.0.0) (2.8.1)\n",
            "Requirement already satisfied: pyparsing!=2.0.4,!=2.1.2,!=2.1.6,>=2.0.1 in /usr/local/lib/python3.6/dist-packages (from matplotlib->scikit-spatial==3.0.0) (2.4.7)\n",
            "Requirement already satisfied: cycler>=0.10 in /usr/local/lib/python3.6/dist-packages (from matplotlib->scikit-spatial==3.0.0) (0.10.0)\n",
            "Requirement already satisfied: six>=1.5 in /usr/local/lib/python3.6/dist-packages (from python-dateutil>=2.1->matplotlib->scikit-spatial==3.0.0) (1.15.0)\n",
            "Installing collected packages: scikit-spatial\n",
            "Successfully installed scikit-spatial-3.0.0\n"
          ],
          "name": "stdout"
        }
      ]
    },
    {
      "cell_type": "code",
      "metadata": {
        "id": "OjsGHfw5i6en"
      },
      "source": [
        "import numpy as np\n",
        "from matplotlib import pyplot as plt\n",
        "from skspatial.objects import Vector, Line, Point\n",
        "from skspatial.plotting import plot_2d"
      ],
      "execution_count": 2,
      "outputs": []
    },
    {
      "cell_type": "markdown",
      "metadata": {
        "id": "CQWSRgOIbXSu"
      },
      "source": [
        "# required functions"
      ]
    },
    {
      "cell_type": "code",
      "metadata": {
        "id": "wLIy1G4sEKoN"
      },
      "source": [
        "'''\n",
        "  check if angle of vertex i in given polygon is reflex (more than 180 degrees)\n",
        "'''\n",
        "def is_reflex(i,poly):\n",
        "  prev = i-1\n",
        "  next = i+1\n",
        "  if i == len(poly)-1:\n",
        "    next = 0\n",
        "  # check for interior cusp (backward cusp and forward cusp)\n",
        "  v1 = Vector(poly[i]-poly[prev])\n",
        "  v2 = Vector(poly[next]-poly[i])\n",
        "  a = np.degrees(v1.angle_signed(v2)).round()\n",
        "  if a > 0:\n",
        "    return True\n",
        "  else:\n",
        "    return False\n",
        "# is_reflex(8)"
      ],
      "execution_count": 3,
      "outputs": []
    },
    {
      "cell_type": "code",
      "metadata": {
        "id": "l1lANPeDYkun"
      },
      "source": [
        "'''\n",
        "  this function checks if a segment from i to j is located completely inside polygon\n",
        "  note: it does not check intersection\n",
        "'''\n",
        "def is_in_poly(i,j,poly):\n",
        "  # indices of previous and next vertices in polygon\n",
        "  prev = i-1\n",
        "  next = i+1\n",
        "  if next == len(poly):\n",
        "    next = 0\n",
        "  \n",
        "  # consider v0,v1,v2 are respectively vertices of current vertex angle in polygon\n",
        "  # u0 is vector from v0 to v1, u1 is vector from v1 to v2\n",
        "  u0 = Vector(poly[prev]-poly[i])\n",
        "  u1 = Vector(poly[next]-poly[i])\n",
        "  # v is vector from vertex i to vertex j in polygon (i and j are indices of vertices in polygon)\n",
        "  v = Vector(poly[j]-poly[i])\n",
        "\n",
        "  # here we check if sum of angle between u0,v and u1,v is equal to angle between u0,u1\n",
        "  # we check it for reflex and non-reflex vertices differently\n",
        "  if is_reflex(i,poly):\n",
        "    a0 = np.degrees(u0.angle_signed(v))\n",
        "    if a0 < 0:\n",
        "      a0 = 360+a0\n",
        "    a1 = np.degrees(v.angle_signed(u1))\n",
        "    if a1 < 0:\n",
        "      a1 = 360+a1\n",
        "    v_angle = (a0+a1).round()\n",
        "    i_angle = 360-np.degrees(u0.angle_between(u1)).round()\n",
        "    if i_angle == v_angle:\n",
        "      return True\n",
        "  else:\n",
        "    v_angle = np.degrees(v.angle_between(u0)+v.angle_between(u1)).round()\n",
        "    i_angle = np.degrees(u0.angle_between(u1)).round()\n",
        "    if v_angle == i_angle:\n",
        "      return True\n",
        "  return False"
      ],
      "execution_count": 4,
      "outputs": []
    },
    {
      "cell_type": "code",
      "metadata": {
        "id": "YstHaJo2fXSi"
      },
      "source": [
        "'''\n",
        "  this function checks if vertces u and v can visit each other in a polygon\n",
        "'''\n",
        "def visit(u,v,poly):\n",
        "  if abs(u-v)==1 or abs(u-v)==len(poly)-1:\n",
        "    return False\n",
        "  l0 = Line(poly[u],poly[v]-poly[u])\n",
        "  # check if segment intersect any of edges\n",
        "  for i in range(len(poly)-1):\n",
        "    a = l0.side_point(poly[i])\n",
        "    b = l0.side_point(poly[i+1])\n",
        "    l1 = Line(poly[i],poly[i+1]-poly[i])\n",
        "    c = l1.side_point(poly[u])\n",
        "    d = l1.side_point(poly[v])\n",
        "    if a*b<0 and c*d<0:\n",
        "      return False\n",
        "  # check if segment is inside polygon\n",
        "  if not (is_in_poly(u,v,poly) and is_in_poly(v,u,poly)):\n",
        "    return False\n",
        "  return True"
      ],
      "execution_count": 5,
      "outputs": []
    },
    {
      "cell_type": "code",
      "metadata": {
        "id": "Q4JGoZq2k-tJ"
      },
      "source": [
        "'''\n",
        "  this function returns monotonizer segments of input polygon\n",
        "  returns: array of indeces \n",
        "'''\n",
        "def get_monotone_segments(poly):\n",
        "  l = len(poly)\n",
        "  # array of index of vertices sorted based on their x component\n",
        "  s_poly = np.argsort(poly[:,0])\n",
        "  # array of dividing segments\n",
        "  i_segments = []\n",
        "  # index of last vertex found in polygon (non interior cusp)\n",
        "  iv = None\n",
        "  # index of last vertex found in sorted list of vertices (non interior cusp)\n",
        "  sv = None\n",
        "  # hold right interior cusp index\n",
        "  # an interior cusp which it's angle is opened towards right\n",
        "  r_cusp = None\n",
        "\n",
        "  # sweep line move (horizontally) from leftmost to rightmost vertex\n",
        "  # here in for, s is index of vertex in sorted list and i is index of vertex in polygon\n",
        "  for s,i in enumerate(s_poly):\n",
        "    # booleans to check if a vertex is interior cusp (left interior or right interior)\n",
        "    is_l_cusp = False\n",
        "    is_r_cusp = False\n",
        "\n",
        "    # iv refers to most suitable vartex to create monotonizer segment \n",
        "    # when we face a left interior cusp, iv is leftmost vertex of polygon located on the right side of cusp\n",
        "    # when we face a right interior cusp, iv is rightmost vertex of polygon located on the left side of cusp\n",
        "    if iv == None:\n",
        "      iv = i\n",
        "      sv = s\n",
        "      continue\n",
        "\n",
        "    # index of previous and next vertices in polygon\n",
        "    prev = i-1\n",
        "    next = i+1\n",
        "    if i == l-1:\n",
        "      next = 0\n",
        "\n",
        "    # check if current vertex is an interior cusp (left cusp and right cusp)\n",
        "    # check the followings:\n",
        "    # 1 - are side vertices of current vertex at the same side?\n",
        "    # (e.g. both located on the left or both on the right of current vertex) \n",
        "    # 2 - consider v0,v1,v2 are respectively vertices of current vertex angle in polygon\n",
        "    # when we move from v0 to v1 and from v1 to v2 do we face a counter clockwise movement?\n",
        "    # if both above conditions are true, current vertex is an interior cusp\n",
        "    # (note: the second condition is enough to recognize interior cusp, but we need to know at which side\n",
        "    #        the side vertices are located to distinguish type of cusp)\n",
        "    v1 = Vector(poly[i]-poly[prev])\n",
        "    v2 = Vector(poly[next]-poly[i])\n",
        "    a = np.degrees(v1.angle_signed(v2)).round()\n",
        "    is_l_cusp = poly[prev][0] > poly[i][0] and poly[next][0] > poly[i][0] and a > 0\n",
        "    is_r_cusp = poly[prev][0] < poly[i][0] and poly[next][0] < poly[i][0] and a > 0\n",
        "\n",
        "    # if we are at a left interior cusp last found iv is vertex which along with current vertex form a monotonizer segment \n",
        "    if is_l_cusp:\n",
        "      # current interior vertex and last iv don't visit each other, then look for previous ivs\n",
        "      if not visit(i, iv, poly):\n",
        "        for c in range(sv-1,-1,-1):\n",
        "          if visit(i, s_poly[c], poly):\n",
        "            i_segments.append(sorted([i,s_poly[c]]))\n",
        "            break\n",
        "      else:\n",
        "        i_segments.append(sorted([i,iv]))\n",
        "      if iv == r_cusp:\n",
        "        r_cusp = None\n",
        "      iv = i\n",
        "      sv = s\n",
        "    elif is_r_cusp: # if we are at right interior cusp, memorize it and find suitable iv in next vertices that sweepline meets \n",
        "      r_cusp = i\n",
        "      # in case that next vertex is also an interior, we need to hold current vertex as iv\n",
        "      iv = i\n",
        "      sv = s\n",
        "    else:\n",
        "      iv = i\n",
        "      sv = s\n",
        "      # if we found a right interior cusp before, check if current iv is suitable for it to create a monotonizer segment\n",
        "      if r_cusp != None:\n",
        "        if not visit(r_cusp, iv, poly):\n",
        "          continue\n",
        "        i_segments.append(sorted([r_cusp,iv]))\n",
        "        r_cusp = None\n",
        "  return i_segments"
      ],
      "execution_count": 6,
      "outputs": []
    },
    {
      "cell_type": "code",
      "metadata": {
        "id": "U0uHyy5qBgPe"
      },
      "source": [
        "'''\n",
        "  this function divides polygon by given segments, returns subpolygons\n",
        "  note: just like original polygon, subpolygons contain actual points, not their indices\n",
        "'''\n",
        "def get_sub_polygons(poly, i_segments):\n",
        "  # if there is no segments return original polygon\n",
        "  if len(i_segments) == 0:\n",
        "    return [poly]\n",
        "  \n",
        "  # b and e are startpoint and endpoint of current subpolygon respectively\n",
        "  b = 0\n",
        "  e = len(poly)-1\n",
        "  # sort segment based on their leftmost point\n",
        "  segs = sorted(i_segments, key=lambda x: x[0])\n",
        "  l = len(segs)\n",
        "  # temp holds indices of current subpolygon that we are creating\n",
        "  temp = []\n",
        "  # parts holds subpolygons based on indices of vertices i.e.each subpolygon is an array of indices of polygon vertices\n",
        "  parts = []\n",
        "\n",
        "  # for each segment divide polygon into subpolygons\n",
        "  for i in range(l):\n",
        "    # beginside of segment\n",
        "    s0 = segs[i][0]\n",
        "    # endside of segment\n",
        "    s1 = segs[i][1]\n",
        "    # check if current segment is last one\n",
        "    if i == l-1:\n",
        "      # add vertices from last startpont to begin side of segment as a part of uncompleted subpolygon\n",
        "      temp.append(range(b,s0+1))\n",
        "      # point to endside of this segment as new startpoint \n",
        "      b = s1\n",
        "      # add all vertices on the other side of segment as a different new subpolygon to parts\n",
        "      parts.append([range(s0,s1+1)])\n",
        "    # check if segment is a deadlocked\n",
        "    # a deadlocked segment is a segment that if we start traversing polygon from its beginside to its endside,\n",
        "    #   we will meet another segment through our way\n",
        "    # the condition of a deadlocked segment is that beginside of next segment is less than endside of current segment  \n",
        "    elif segs[i+1][0] < s1:\n",
        "      temp.append(range(b,s0+1))\n",
        "      temp.append(range(s1,e+1))\n",
        "      parts.append(temp)\n",
        "      temp = []\n",
        "      b = s0\n",
        "      e = s1\n",
        "    # if segment is not deadlocked, then it's a bridge\n",
        "    # a bridge segment is a segment that if we traverse polygon from its beginside to its endside,\n",
        "    #   we won't see any segment in the middle of the way\n",
        "    else:\n",
        "      # add all vertices from last startpoint to beginside of segment as a part of uncompleted subpolygon\n",
        "      temp.append(range(b,s0+1))\n",
        "      # point to endside of this segment as new startpoint \n",
        "      b = s1\n",
        "      # add all vertices on the other side of segment as a different new subpolygon to parts\n",
        "      parts.append([range(s0,s1+1)])\n",
        "  # add all vertices from last startpoint to endpoint of polygon to complete the uncompleted subpolygon\n",
        "  temp.append(range(b,e+1))\n",
        "  parts.append(temp)\n",
        "\n",
        "  # create vertex based subpolygons from their indices\n",
        "  divs = []\n",
        "  for part in parts:\n",
        "    temp = []\n",
        "    for r in part:\n",
        "      for i in r:\n",
        "        temp.append(poly[i])\n",
        "    divs.append(temp)\n",
        "  return divs"
      ],
      "execution_count": 7,
      "outputs": []
    },
    {
      "cell_type": "code",
      "metadata": {
        "id": "j-Ddf3hRqHUg"
      },
      "source": [
        "# get a boolean array corresponding to indices of vertices in polygon\n",
        "def get_chain(poly):\n",
        "  # bool list, 1-> upper chain, 0-> lower chain\n",
        "  chain = []\n",
        "  for i in range(-1,len(poly)-1):\n",
        "    if poly[i][0] < poly[i+1][0]:\n",
        "      chain.append(1)\n",
        "    else:\n",
        "      chain.append(0)\n",
        "  return chain"
      ],
      "execution_count": 8,
      "outputs": []
    },
    {
      "cell_type": "code",
      "metadata": {
        "id": "03TkNWDV-Lbz"
      },
      "source": [
        "'''\n",
        "  this function triangulates a monotone polygon\n",
        "'''\n",
        "def monotone_triangulate(poly):\n",
        "  # get chain list of polygon\n",
        "  chain = get_chain(poly)\n",
        "  # change type of poly to numpy array\n",
        "  poly = np.array(poly)\n",
        "  \n",
        "  # ls holds indices of polygon sorted by x component of vertices\n",
        "  ls = np.argsort(poly[:,0])\n",
        "  # s is stack holding candidate vertices to create new triangulation segment\n",
        "  s = list([ls[0],ls[1]])\n",
        "  # segs holds traingulation segments\n",
        "  segs = list()\n",
        "  # traverse through polygon by sweepline\n",
        "  for i in range(2,len(ls)):\n",
        "    # current vertex met by sweepline\n",
        "    u = ls[i]\n",
        "    # c is pointer to a vertix in stack and is updated each time\n",
        "    c = len(s)-1\n",
        "    # vfirst is first point visited from opposite chain\n",
        "    vfirst = None\n",
        "    while c != -1:\n",
        "      # v is last point from stack\n",
        "      v = s[c]\n",
        "      # u and v visit each other, then they are a segment\n",
        "      if visit(u,v,poly):\n",
        "        segs.append([u,v])\n",
        "        # remove all vertices from stack that are already observed\n",
        "        for i in range(len(s)-c):\n",
        "          s.pop()\n",
        "        # check if v is first visited vertex from opposite chain\n",
        "        if chain[u] != chain[v] and vfirst == None:\n",
        "          vfirst = v\n",
        "        # point to next point in stack\n",
        "        c -= 1\n",
        "      elif not is_reflex(v,poly): # check if v has a reflex angle, if it doesn't remove it from stack\n",
        "        s.pop(c)\n",
        "        c -= 1\n",
        "      else: # if v is not visible and is reflex\n",
        "        # if we have already met a vertex from opposite side then remove v from stack\n",
        "        if vfirst != None:\n",
        "          s.pop(c)\n",
        "        c -= 1\n",
        "    # if we have seen a vertex from opposite chain, add it to stack\n",
        "    if vfirst != None:\n",
        "      s.append(vfirst)\n",
        "    # add current u to stack as well\n",
        "    s.append(u)\n",
        "  return segs"
      ],
      "execution_count": 9,
      "outputs": []
    },
    {
      "cell_type": "code",
      "metadata": {
        "id": "LCj1jKKpz-tk"
      },
      "source": [
        "'''simple plot of polygon'''\n",
        "def plot_poly(poly):\n",
        "  l = len(poly)\n",
        "  for i in range(-1,l-1):\n",
        "    x = np.array([poly[i][0],poly[i+1][0]])\n",
        "    y = np.array([poly[i][1],poly[i+1][1]])\n",
        "    plt.plot(x, y, 'ko-')\n",
        "  plt.show()"
      ],
      "execution_count": 10,
      "outputs": []
    },
    {
      "cell_type": "code",
      "metadata": {
        "id": "25xhjQyZv57O"
      },
      "source": [
        "'''\n",
        "  plot monotoniized and triangulated polygon\n",
        "  - monotonizer segments are shown red\n",
        "  - triangulation segments are shown blue\n",
        "  - normal edges of polygon are shown black\n",
        "'''\n",
        "def plot_divs_triangulate(poly, divs, monotone_segs):\n",
        "  for s in monotone_segs:\n",
        "    a,b = s\n",
        "    x = np.array([poly[a][0],poly[b][0]])\n",
        "    y = np.array([poly[a][1],poly[b][1]])\n",
        "    plt.plot(x, y, 'ro-')\n",
        "  for div in divs:\n",
        "    l = len(div)\n",
        "    for i in range(-1,l-1):\n",
        "      c='k'\n",
        "      for s in monotone_segs:\n",
        "        a,b = s\n",
        "        cond1 = (poly[a] == div[i]).all() and (poly[b] == div[i+1]).all()\n",
        "        cond2 = (poly[b] == div[i]).all() and (poly[a] == div[i+1]).all()\n",
        "        if cond1 or cond2:\n",
        "          c='r'\n",
        "          break\n",
        "      x = np.array([div[i][0],div[i+1][0]])\n",
        "      y = np.array([div[i][1],div[i+1][1]])\n",
        "      plt.plot(x, y, c+'o-')\n",
        "    triangulatioon_segs = monotone_triangulate(div)\n",
        "    for s in triangulatioon_segs:\n",
        "      a,b = s\n",
        "      x = np.array([div[a][0],div[b][0]])\n",
        "      y = np.array([div[a][1],div[b][1]])\n",
        "      plt.plot(x, y, 'bo-')\n",
        "  plt.show()"
      ],
      "execution_count": 11,
      "outputs": []
    },
    {
      "cell_type": "code",
      "metadata": {
        "id": "2t9_Ub-0blJr"
      },
      "source": [
        "'''\n",
        "  traingulate a polygon and plot it in output\n",
        "'''\n",
        "def triangulate(poly):\n",
        "  poly = np.array(poly)\n",
        "  segs = get_monotone_segments(poly)\n",
        "  divs = get_sub_polygons(poly, segs)\n",
        "  plot_divs_triangulate(poly,divs,segs)"
      ],
      "execution_count": 12,
      "outputs": []
    },
    {
      "cell_type": "markdown",
      "metadata": {
        "id": "VfvBWsMeMslE"
      },
      "source": [
        "# <font color='red'>Examples</font>\n",
        "## <font color='blue'>note:</font>\n",
        "  - monotonizer segments are shown red\n",
        "  - triangulation segments are shown blue\n",
        "  - normal edges of polygon are shown black"
      ]
    },
    {
      "cell_type": "markdown",
      "metadata": {
        "id": "19zFpVbYd_u3"
      },
      "source": [
        "## No. 1"
      ]
    },
    {
      "cell_type": "code",
      "metadata": {
        "id": "QVEWz_cYLV-S",
        "colab": {
          "base_uri": "https://localhost:8080/",
          "height": 265
        },
        "outputId": "9f7ec0d4-a47b-43d1-ab79-1abb7cc33417"
      },
      "source": [
        "poly = [[1.25,5.23],\n",
        "        [3.38,7.94], \n",
        "        [5.06,6.25],\n",
        "        [7.79,8.15],\n",
        "        [9.09,5.64],\n",
        "        [11.77,5.29],\n",
        "        [13.91,6.32],\n",
        "        [15.30,10.37],\n",
        "        [15.65,3.26],\n",
        "        [2.48,3.35]]\n",
        "triangulate(poly)"
      ],
      "execution_count": 13,
      "outputs": [
        {
          "output_type": "display_data",
          "data": {
            "image/png": "[encoded data removed]",
            "text/plain": [
              "<Figure size 432x288 with 1 Axes>"
            ]
          },
          "metadata": {
            "tags": [],
            "needs_background": "light"
          }
        }
      ]
    },
    {
      "cell_type": "markdown",
      "metadata": {
        "id": "hxLt_Dc9epkP"
      },
      "source": [
        "## No. 2"
      ]
    },
    {
      "cell_type": "code",
      "metadata": {
        "id": "oEzwLzChiJb7",
        "colab": {
          "base_uri": "https://localhost:8080/",
          "height": 265
        },
        "outputId": "09e1f196-9627-4ad9-aff7-d5e2df25a0b3"
      },
      "source": [
        "poly = [[0,0],\n",
        "        [1,3],\n",
        "        [6,4],\n",
        "        [5,3],\n",
        "        [8,2.5],\n",
        "        [10,3],\n",
        "        [11,4],\n",
        "        [13,3.5],\n",
        "        [14,0],\n",
        "        [12.5,-2],\n",
        "        [9,-3],\n",
        "        [10.5,-1.5],\n",
        "        [6,-1.5],\n",
        "        [5,-2.5],\n",
        "        [3,-2],\n",
        "        [0.5,-3]]\n",
        "        \n",
        "triangulate(poly)"
      ],
      "execution_count": 14,
      "outputs": [
        {
          "output_type": "display_data",
          "data": {
            "image/png": "[encoded data removed]",
            "text/plain": [
              "<Figure size 432x288 with 1 Axes>"
            ]
          },
          "metadata": {
            "tags": [],
            "needs_background": "light"
          }
        }
      ]
    },
    {
      "cell_type": "markdown",
      "metadata": {
        "id": "8tpzebCG441n"
      },
      "source": [
        "## No. 3"
      ]
    },
    {
      "cell_type": "code",
      "metadata": {
        "id": "JHplx5PezXfk",
        "colab": {
          "base_uri": "https://localhost:8080/",
          "height": 269
        },
        "outputId": "e0cdffa6-18c7-498a-c383-8333ae370c27"
      },
      "source": [
        "poly = [[ 0.41,  4.72],\n",
        "        [ 3.77,  5.98],\n",
        "        [ 4.59,  4.2 ],\n",
        "        [ 6.66,  4.56],\n",
        "        [ 5.76,  5.6 ],\n",
        "        [10.43,  6.62],\n",
        "        [11.52,  4.55],\n",
        "        [ 7.5 ,  3.5 ],\n",
        "        [10.77,  1.14],\n",
        "        [ 9.01, -1.16],\n",
        "        [ 6.3 ,  2.23],\n",
        "        [ 5.41,  1.02],\n",
        "        [ 3.49, -0.09],\n",
        "        [ 1.32,  1.29],\n",
        "        [ 5.73,  3.16]]\n",
        "triangulate(poly)"
      ],
      "execution_count": 15,
      "outputs": [
        {
          "output_type": "display_data",
          "data": {
            "image/png": "[encoded data removed]",
            "text/plain": [
              "<Figure size 432x288 with 1 Axes>"
            ]
          },
          "metadata": {
            "tags": [],
            "needs_background": "light"
          }
        }
      ]
    }
  ]
}